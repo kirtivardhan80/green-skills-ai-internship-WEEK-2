{
 "cells": [
  {
   "cell_type": "markdown",
   "id": "3d6aa7ee",
   "metadata": {},
   "source": [
    "# Build a Mini Streamlit App"
   ]
  },
  {
   "cell_type": "code",
   "execution_count": null,
   "id": "40f365b8",
   "metadata": {},
   "outputs": [],
   "source": [
    "import streamlit as st\n",
    "from tensorflow.keras.models import load_model\n",
    "from tensorflow.keras.preprocessing import image\n",
    "import numpy as np\n",
    "from PIL import Image\n",
    "\n",
    "# Load model\n",
    "model = load_model(\"tree_species_model_final.h5\")\n",
    "class_labels = ['amla', 'asopalav', 'babul', 'bamboo', 'banyan', 'bili', 'cactus', 'champa', 'coconut', 'garmalo', 'gulmohor', 'gunda', 'jamun', 'kanchan', 'kesudo', 'khajur', 'mango', 'motichanoti', 'neem', 'nilgiri', 'other', 'pilikaren', 'pipal', 'saptaparni', 'shirish', 'simlo', 'sitafal', 'sonmahor', 'sugarcane', 'vad']  # Replace with actual class names\n",
    "\n",
    "st.title(\"🌳 Tree Species Identifier\")\n",
    "st.write(\"Upload a leaf image and I will predict the species.\")\n",
    "\n",
    "# File uploader\n",
    "uploaded_file = st.file_uploader(\"Choose a leaf image...\", type=[\"jpg\", \"png\", \"jpeg\"])\n",
    "\n",
    "if uploaded_file is not None:\n",
    "    img = Image.open(uploaded_file).convert(\"RGB\")\n",
    "    st.image(img, caption='Uploaded Image', use_column_width=True)\n",
    "\n",
    "    # Preprocess\n",
    "    img = img.resize((224, 224))\n",
    "    img_array = image.img_to_array(img)\n",
    "    img_array = np.expand_dims(img_array, axis=0)\n",
    "    img_array = img_array / 255.0\n",
    "\n",
    "    # Predict\n",
    "    pred = model.predict(img_array)\n",
    "    predicted_class = np.argmax(pred, axis=1)[0]\n",
    "\n",
    "    st.write(\"### 🌿 Predicted Species:\", class_labels[predicted_class])\n"
   ]
  }
 ],
 "metadata": {
  "kernelspec": {
   "display_name": "Python 3 (ipykernel)",
   "language": "python",
   "name": "python3"
  },
  "language_info": {
   "codemirror_mode": {
    "name": "ipython",
    "version": 3
   },
   "file_extension": ".py",
   "mimetype": "text/x-python",
   "name": "python",
   "nbconvert_exporter": "python",
   "pygments_lexer": "ipython3",
   "version": "3.10.13"
  }
 },
 "nbformat": 4,
 "nbformat_minor": 5
}
